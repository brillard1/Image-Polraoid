{
  "nbformat": 4,
  "nbformat_minor": 0,
  "metadata": {
    "colab": {
      "name": "Gratitude_day.ipynb",
      "provenance": [],
      "collapsed_sections": []
    },
    "kernelspec": {
      "name": "python3",
      "display_name": "Python 3"
    },
    "language_info": {
      "name": "python"
    }
  },
  "cells": [
    {
      "cell_type": "code",
      "source": [
        "from google.colab import drive\n",
        "drive.mount('/content/drive')"
      ],
      "metadata": {
        "colab": {
          "base_uri": "https://localhost:8080/"
        },
        "id": "oFEQ8bCb2mrr",
        "outputId": "12036903-05a6-4c2d-de08-e2ec2ba7671f"
      },
      "execution_count": null,
      "outputs": [
        {
          "output_type": "stream",
          "name": "stdout",
          "text": [
            "Mounted at /content/drive\n"
          ]
        }
      ]
    },
    {
      "cell_type": "markdown",
      "source": [
        "# New Section"
      ],
      "metadata": {
        "id": "tyDWhkmkru5w"
      }
    },
    {
      "cell_type": "code",
      "source": [
        "!pip install rawpy"
      ],
      "metadata": {
        "colab": {
          "base_uri": "https://localhost:8080/"
        },
        "id": "tdv1v-afy3oE",
        "outputId": "b5b58075-afeb-46fc-ae68-f3b6f8315dfd"
      },
      "execution_count": null,
      "outputs": [
        {
          "output_type": "stream",
          "name": "stdout",
          "text": [
            "Collecting rawpy\n",
            "  Downloading rawpy-0.17.0-cp37-cp37m-manylinux_2_17_x86_64.manylinux2014_x86_64.whl (2.2 MB)\n",
            "\u001b[?25l\r\u001b[K     |▏                               | 10 kB 21.7 MB/s eta 0:00:01\r\u001b[K     |▎                               | 20 kB 26.1 MB/s eta 0:00:01\r\u001b[K     |▍                               | 30 kB 30.0 MB/s eta 0:00:01\r\u001b[K     |▋                               | 40 kB 32.9 MB/s eta 0:00:01\r\u001b[K     |▊                               | 51 kB 19.5 MB/s eta 0:00:01\r\u001b[K     |▉                               | 61 kB 21.4 MB/s eta 0:00:01\r\u001b[K     |█                               | 71 kB 19.3 MB/s eta 0:00:01\r\u001b[K     |█▏                              | 81 kB 20.5 MB/s eta 0:00:01\r\u001b[K     |█▎                              | 92 kB 22.4 MB/s eta 0:00:01\r\u001b[K     |█▌                              | 102 kB 24.3 MB/s eta 0:00:01\r\u001b[K     |█▋                              | 112 kB 24.3 MB/s eta 0:00:01\r\u001b[K     |█▊                              | 122 kB 24.3 MB/s eta 0:00:01\r\u001b[K     |██                              | 133 kB 24.3 MB/s eta 0:00:01\r\u001b[K     |██                              | 143 kB 24.3 MB/s eta 0:00:01\r\u001b[K     |██▏                             | 153 kB 24.3 MB/s eta 0:00:01\r\u001b[K     |██▍                             | 163 kB 24.3 MB/s eta 0:00:01\r\u001b[K     |██▌                             | 174 kB 24.3 MB/s eta 0:00:01\r\u001b[K     |██▋                             | 184 kB 24.3 MB/s eta 0:00:01\r\u001b[K     |██▉                             | 194 kB 24.3 MB/s eta 0:00:01\r\u001b[K     |███                             | 204 kB 24.3 MB/s eta 0:00:01\r\u001b[K     |███                             | 215 kB 24.3 MB/s eta 0:00:01\r\u001b[K     |███▎                            | 225 kB 24.3 MB/s eta 0:00:01\r\u001b[K     |███▍                            | 235 kB 24.3 MB/s eta 0:00:01\r\u001b[K     |███▌                            | 245 kB 24.3 MB/s eta 0:00:01\r\u001b[K     |███▋                            | 256 kB 24.3 MB/s eta 0:00:01\r\u001b[K     |███▉                            | 266 kB 24.3 MB/s eta 0:00:01\r\u001b[K     |████                            | 276 kB 24.3 MB/s eta 0:00:01\r\u001b[K     |████                            | 286 kB 24.3 MB/s eta 0:00:01\r\u001b[K     |████▎                           | 296 kB 24.3 MB/s eta 0:00:01\r\u001b[K     |████▍                           | 307 kB 24.3 MB/s eta 0:00:01\r\u001b[K     |████▌                           | 317 kB 24.3 MB/s eta 0:00:01\r\u001b[K     |████▊                           | 327 kB 24.3 MB/s eta 0:00:01\r\u001b[K     |████▉                           | 337 kB 24.3 MB/s eta 0:00:01\r\u001b[K     |█████                           | 348 kB 24.3 MB/s eta 0:00:01\r\u001b[K     |█████▏                          | 358 kB 24.3 MB/s eta 0:00:01\r\u001b[K     |█████▎                          | 368 kB 24.3 MB/s eta 0:00:01\r\u001b[K     |█████▍                          | 378 kB 24.3 MB/s eta 0:00:01\r\u001b[K     |█████▋                          | 389 kB 24.3 MB/s eta 0:00:01\r\u001b[K     |█████▊                          | 399 kB 24.3 MB/s eta 0:00:01\r\u001b[K     |█████▉                          | 409 kB 24.3 MB/s eta 0:00:01\r\u001b[K     |██████                          | 419 kB 24.3 MB/s eta 0:00:01\r\u001b[K     |██████▏                         | 430 kB 24.3 MB/s eta 0:00:01\r\u001b[K     |██████▎                         | 440 kB 24.3 MB/s eta 0:00:01\r\u001b[K     |██████▌                         | 450 kB 24.3 MB/s eta 0:00:01\r\u001b[K     |██████▋                         | 460 kB 24.3 MB/s eta 0:00:01\r\u001b[K     |██████▊                         | 471 kB 24.3 MB/s eta 0:00:01\r\u001b[K     |███████                         | 481 kB 24.3 MB/s eta 0:00:01\r\u001b[K     |███████                         | 491 kB 24.3 MB/s eta 0:00:01\r\u001b[K     |███████▏                        | 501 kB 24.3 MB/s eta 0:00:01\r\u001b[K     |███████▎                        | 512 kB 24.3 MB/s eta 0:00:01\r\u001b[K     |███████▌                        | 522 kB 24.3 MB/s eta 0:00:01\r\u001b[K     |███████▋                        | 532 kB 24.3 MB/s eta 0:00:01\r\u001b[K     |███████▊                        | 542 kB 24.3 MB/s eta 0:00:01\r\u001b[K     |████████                        | 552 kB 24.3 MB/s eta 0:00:01\r\u001b[K     |████████                        | 563 kB 24.3 MB/s eta 0:00:01\r\u001b[K     |████████▏                       | 573 kB 24.3 MB/s eta 0:00:01\r\u001b[K     |████████▍                       | 583 kB 24.3 MB/s eta 0:00:01\r\u001b[K     |████████▌                       | 593 kB 24.3 MB/s eta 0:00:01\r\u001b[K     |████████▋                       | 604 kB 24.3 MB/s eta 0:00:01\r\u001b[K     |████████▉                       | 614 kB 24.3 MB/s eta 0:00:01\r\u001b[K     |█████████                       | 624 kB 24.3 MB/s eta 0:00:01\r\u001b[K     |█████████                       | 634 kB 24.3 MB/s eta 0:00:01\r\u001b[K     |█████████▎                      | 645 kB 24.3 MB/s eta 0:00:01\r\u001b[K     |█████████▍                      | 655 kB 24.3 MB/s eta 0:00:01\r\u001b[K     |█████████▌                      | 665 kB 24.3 MB/s eta 0:00:01\r\u001b[K     |█████████▊                      | 675 kB 24.3 MB/s eta 0:00:01\r\u001b[K     |█████████▉                      | 686 kB 24.3 MB/s eta 0:00:01\r\u001b[K     |██████████                      | 696 kB 24.3 MB/s eta 0:00:01\r\u001b[K     |██████████▏                     | 706 kB 24.3 MB/s eta 0:00:01\r\u001b[K     |██████████▎                     | 716 kB 24.3 MB/s eta 0:00:01\r\u001b[K     |██████████▍                     | 727 kB 24.3 MB/s eta 0:00:01\r\u001b[K     |██████████▋                     | 737 kB 24.3 MB/s eta 0:00:01\r\u001b[K     |██████████▊                     | 747 kB 24.3 MB/s eta 0:00:01\r\u001b[K     |██████████▉                     | 757 kB 24.3 MB/s eta 0:00:01\r\u001b[K     |███████████                     | 768 kB 24.3 MB/s eta 0:00:01\r\u001b[K     |███████████▏                    | 778 kB 24.3 MB/s eta 0:00:01\r\u001b[K     |███████████▎                    | 788 kB 24.3 MB/s eta 0:00:01\r\u001b[K     |███████████▍                    | 798 kB 24.3 MB/s eta 0:00:01\r\u001b[K     |███████████▋                    | 808 kB 24.3 MB/s eta 0:00:01\r\u001b[K     |███████████▊                    | 819 kB 24.3 MB/s eta 0:00:01\r\u001b[K     |███████████▉                    | 829 kB 24.3 MB/s eta 0:00:01\r\u001b[K     |████████████                    | 839 kB 24.3 MB/s eta 0:00:01\r\u001b[K     |████████████▏                   | 849 kB 24.3 MB/s eta 0:00:01\r\u001b[K     |████████████▎                   | 860 kB 24.3 MB/s eta 0:00:01\r\u001b[K     |████████████▌                   | 870 kB 24.3 MB/s eta 0:00:01\r\u001b[K     |████████████▋                   | 880 kB 24.3 MB/s eta 0:00:01\r\u001b[K     |████████████▊                   | 890 kB 24.3 MB/s eta 0:00:01\r\u001b[K     |█████████████                   | 901 kB 24.3 MB/s eta 0:00:01\r\u001b[K     |█████████████                   | 911 kB 24.3 MB/s eta 0:00:01\r\u001b[K     |█████████████▏                  | 921 kB 24.3 MB/s eta 0:00:01\r\u001b[K     |█████████████▍                  | 931 kB 24.3 MB/s eta 0:00:01\r\u001b[K     |█████████████▌                  | 942 kB 24.3 MB/s eta 0:00:01\r\u001b[K     |█████████████▋                  | 952 kB 24.3 MB/s eta 0:00:01\r\u001b[K     |█████████████▉                  | 962 kB 24.3 MB/s eta 0:00:01\r\u001b[K     |██████████████                  | 972 kB 24.3 MB/s eta 0:00:01\r\u001b[K     |██████████████                  | 983 kB 24.3 MB/s eta 0:00:01\r\u001b[K     |██████████████▏                 | 993 kB 24.3 MB/s eta 0:00:01\r\u001b[K     |██████████████▍                 | 1.0 MB 24.3 MB/s eta 0:00:01\r\u001b[K     |██████████████▌                 | 1.0 MB 24.3 MB/s eta 0:00:01\r\u001b[K     |██████████████▋                 | 1.0 MB 24.3 MB/s eta 0:00:01\r\u001b[K     |██████████████▉                 | 1.0 MB 24.3 MB/s eta 0:00:01\r\u001b[K     |███████████████                 | 1.0 MB 24.3 MB/s eta 0:00:01\r\u001b[K     |███████████████                 | 1.1 MB 24.3 MB/s eta 0:00:01\r\u001b[K     |███████████████▎                | 1.1 MB 24.3 MB/s eta 0:00:01\r\u001b[K     |███████████████▍                | 1.1 MB 24.3 MB/s eta 0:00:01\r\u001b[K     |███████████████▌                | 1.1 MB 24.3 MB/s eta 0:00:01\r\u001b[K     |███████████████▊                | 1.1 MB 24.3 MB/s eta 0:00:01\r\u001b[K     |███████████████▉                | 1.1 MB 24.3 MB/s eta 0:00:01\r\u001b[K     |████████████████                | 1.1 MB 24.3 MB/s eta 0:00:01\r\u001b[K     |████████████████▏               | 1.1 MB 24.3 MB/s eta 0:00:01\r\u001b[K     |████████████████▎               | 1.1 MB 24.3 MB/s eta 0:00:01\r\u001b[K     |████████████████▍               | 1.1 MB 24.3 MB/s eta 0:00:01\r\u001b[K     |████████████████▋               | 1.2 MB 24.3 MB/s eta 0:00:01\r\u001b[K     |████████████████▊               | 1.2 MB 24.3 MB/s eta 0:00:01\r\u001b[K     |████████████████▉               | 1.2 MB 24.3 MB/s eta 0:00:01\r\u001b[K     |█████████████████               | 1.2 MB 24.3 MB/s eta 0:00:01\r\u001b[K     |█████████████████▏              | 1.2 MB 24.3 MB/s eta 0:00:01\r\u001b[K     |█████████████████▎              | 1.2 MB 24.3 MB/s eta 0:00:01\r\u001b[K     |█████████████████▌              | 1.2 MB 24.3 MB/s eta 0:00:01\r\u001b[K     |█████████████████▋              | 1.2 MB 24.3 MB/s eta 0:00:01\r\u001b[K     |█████████████████▊              | 1.2 MB 24.3 MB/s eta 0:00:01\r\u001b[K     |█████████████████▉              | 1.2 MB 24.3 MB/s eta 0:00:01\r\u001b[K     |██████████████████              | 1.3 MB 24.3 MB/s eta 0:00:01\r\u001b[K     |██████████████████▏             | 1.3 MB 24.3 MB/s eta 0:00:01\r\u001b[K     |██████████████████▎             | 1.3 MB 24.3 MB/s eta 0:00:01\r\u001b[K     |██████████████████▌             | 1.3 MB 24.3 MB/s eta 0:00:01\r\u001b[K     |██████████████████▋             | 1.3 MB 24.3 MB/s eta 0:00:01\r\u001b[K     |██████████████████▊             | 1.3 MB 24.3 MB/s eta 0:00:01\r\u001b[K     |███████████████████             | 1.3 MB 24.3 MB/s eta 0:00:01\r\u001b[K     |███████████████████             | 1.3 MB 24.3 MB/s eta 0:00:01\r\u001b[K     |███████████████████▏            | 1.3 MB 24.3 MB/s eta 0:00:01\r\u001b[K     |███████████████████▍            | 1.4 MB 24.3 MB/s eta 0:00:01\r\u001b[K     |███████████████████▌            | 1.4 MB 24.3 MB/s eta 0:00:01\r\u001b[K     |███████████████████▋            | 1.4 MB 24.3 MB/s eta 0:00:01\r\u001b[K     |███████████████████▉            | 1.4 MB 24.3 MB/s eta 0:00:01\r\u001b[K     |████████████████████            | 1.4 MB 24.3 MB/s eta 0:00:01\r\u001b[K     |████████████████████            | 1.4 MB 24.3 MB/s eta 0:00:01\r\u001b[K     |████████████████████▎           | 1.4 MB 24.3 MB/s eta 0:00:01\r\u001b[K     |████████████████████▍           | 1.4 MB 24.3 MB/s eta 0:00:01\r\u001b[K     |████████████████████▌           | 1.4 MB 24.3 MB/s eta 0:00:01\r\u001b[K     |████████████████████▊           | 1.4 MB 24.3 MB/s eta 0:00:01\r\u001b[K     |████████████████████▉           | 1.5 MB 24.3 MB/s eta 0:00:01\r\u001b[K     |█████████████████████           | 1.5 MB 24.3 MB/s eta 0:00:01\r\u001b[K     |█████████████████████▏          | 1.5 MB 24.3 MB/s eta 0:00:01\r\u001b[K     |█████████████████████▎          | 1.5 MB 24.3 MB/s eta 0:00:01\r\u001b[K     |█████████████████████▍          | 1.5 MB 24.3 MB/s eta 0:00:01\r\u001b[K     |█████████████████████▌          | 1.5 MB 24.3 MB/s eta 0:00:01\r\u001b[K     |█████████████████████▊          | 1.5 MB 24.3 MB/s eta 0:00:01\r\u001b[K     |█████████████████████▉          | 1.5 MB 24.3 MB/s eta 0:00:01\r\u001b[K     |██████████████████████          | 1.5 MB 24.3 MB/s eta 0:00:01\r\u001b[K     |██████████████████████▏         | 1.5 MB 24.3 MB/s eta 0:00:01\r\u001b[K     |██████████████████████▎         | 1.6 MB 24.3 MB/s eta 0:00:01\r\u001b[K     |██████████████████████▍         | 1.6 MB 24.3 MB/s eta 0:00:01\r\u001b[K     |██████████████████████▋         | 1.6 MB 24.3 MB/s eta 0:00:01\r\u001b[K     |██████████████████████▊         | 1.6 MB 24.3 MB/s eta 0:00:01\r\u001b[K     |██████████████████████▉         | 1.6 MB 24.3 MB/s eta 0:00:01\r\u001b[K     |███████████████████████         | 1.6 MB 24.3 MB/s eta 0:00:01\r\u001b[K     |███████████████████████▏        | 1.6 MB 24.3 MB/s eta 0:00:01\r\u001b[K     |███████████████████████▎        | 1.6 MB 24.3 MB/s eta 0:00:01\r\u001b[K     |███████████████████████▌        | 1.6 MB 24.3 MB/s eta 0:00:01\r\u001b[K     |███████████████████████▋        | 1.6 MB 24.3 MB/s eta 0:00:01\r\u001b[K     |███████████████████████▊        | 1.7 MB 24.3 MB/s eta 0:00:01\r\u001b[K     |████████████████████████        | 1.7 MB 24.3 MB/s eta 0:00:01\r\u001b[K     |████████████████████████        | 1.7 MB 24.3 MB/s eta 0:00:01\r\u001b[K     |████████████████████████▏       | 1.7 MB 24.3 MB/s eta 0:00:01\r\u001b[K     |████████████████████████▍       | 1.7 MB 24.3 MB/s eta 0:00:01\r\u001b[K     |████████████████████████▌       | 1.7 MB 24.3 MB/s eta 0:00:01\r\u001b[K     |████████████████████████▋       | 1.7 MB 24.3 MB/s eta 0:00:01\r\u001b[K     |████████████████████████▉       | 1.7 MB 24.3 MB/s eta 0:00:01\r\u001b[K     |█████████████████████████       | 1.7 MB 24.3 MB/s eta 0:00:01\r\u001b[K     |█████████████████████████       | 1.8 MB 24.3 MB/s eta 0:00:01\r\u001b[K     |█████████████████████████▏      | 1.8 MB 24.3 MB/s eta 0:00:01\r\u001b[K     |█████████████████████████▍      | 1.8 MB 24.3 MB/s eta 0:00:01\r\u001b[K     |█████████████████████████▌      | 1.8 MB 24.3 MB/s eta 0:00:01\r\u001b[K     |█████████████████████████▋      | 1.8 MB 24.3 MB/s eta 0:00:01\r\u001b[K     |█████████████████████████▉      | 1.8 MB 24.3 MB/s eta 0:00:01\r\u001b[K     |██████████████████████████      | 1.8 MB 24.3 MB/s eta 0:00:01\r\u001b[K     |██████████████████████████      | 1.8 MB 24.3 MB/s eta 0:00:01\r\u001b[K     |██████████████████████████▎     | 1.8 MB 24.3 MB/s eta 0:00:01\r\u001b[K     |██████████████████████████▍     | 1.8 MB 24.3 MB/s eta 0:00:01\r\u001b[K     |██████████████████████████▌     | 1.9 MB 24.3 MB/s eta 0:00:01\r\u001b[K     |██████████████████████████▊     | 1.9 MB 24.3 MB/s eta 0:00:01\r\u001b[K     |██████████████████████████▉     | 1.9 MB 24.3 MB/s eta 0:00:01\r\u001b[K     |███████████████████████████     | 1.9 MB 24.3 MB/s eta 0:00:01\r\u001b[K     |███████████████████████████▏    | 1.9 MB 24.3 MB/s eta 0:00:01\r\u001b[K     |███████████████████████████▎    | 1.9 MB 24.3 MB/s eta 0:00:01\r\u001b[K     |███████████████████████████▍    | 1.9 MB 24.3 MB/s eta 0:00:01\r\u001b[K     |███████████████████████████▋    | 1.9 MB 24.3 MB/s eta 0:00:01\r\u001b[K     |███████████████████████████▊    | 1.9 MB 24.3 MB/s eta 0:00:01\r\u001b[K     |███████████████████████████▉    | 1.9 MB 24.3 MB/s eta 0:00:01\r\u001b[K     |████████████████████████████    | 2.0 MB 24.3 MB/s eta 0:00:01\r\u001b[K     |████████████████████████████▏   | 2.0 MB 24.3 MB/s eta 0:00:01\r\u001b[K     |████████████████████████████▎   | 2.0 MB 24.3 MB/s eta 0:00:01\r\u001b[K     |████████████████████████████▍   | 2.0 MB 24.3 MB/s eta 0:00:01\r\u001b[K     |████████████████████████████▋   | 2.0 MB 24.3 MB/s eta 0:00:01\r\u001b[K     |████████████████████████████▊   | 2.0 MB 24.3 MB/s eta 0:00:01\r\u001b[K     |████████████████████████████▉   | 2.0 MB 24.3 MB/s eta 0:00:01\r\u001b[K     |█████████████████████████████   | 2.0 MB 24.3 MB/s eta 0:00:01\r\u001b[K     |█████████████████████████████▏  | 2.0 MB 24.3 MB/s eta 0:00:01\r\u001b[K     |█████████████████████████████▎  | 2.0 MB 24.3 MB/s eta 0:00:01\r\u001b[K     |█████████████████████████████▌  | 2.1 MB 24.3 MB/s eta 0:00:01\r\u001b[K     |█████████████████████████████▋  | 2.1 MB 24.3 MB/s eta 0:00:01\r\u001b[K     |█████████████████████████████▊  | 2.1 MB 24.3 MB/s eta 0:00:01\r\u001b[K     |██████████████████████████████  | 2.1 MB 24.3 MB/s eta 0:00:01\r\u001b[K     |██████████████████████████████  | 2.1 MB 24.3 MB/s eta 0:00:01\r\u001b[K     |██████████████████████████████▏ | 2.1 MB 24.3 MB/s eta 0:00:01\r\u001b[K     |██████████████████████████████▍ | 2.1 MB 24.3 MB/s eta 0:00:01\r\u001b[K     |██████████████████████████████▌ | 2.1 MB 24.3 MB/s eta 0:00:01\r\u001b[K     |██████████████████████████████▋ | 2.1 MB 24.3 MB/s eta 0:00:01\r\u001b[K     |██████████████████████████████▉ | 2.2 MB 24.3 MB/s eta 0:00:01\r\u001b[K     |███████████████████████████████ | 2.2 MB 24.3 MB/s eta 0:00:01\r\u001b[K     |███████████████████████████████ | 2.2 MB 24.3 MB/s eta 0:00:01\r\u001b[K     |███████████████████████████████▎| 2.2 MB 24.3 MB/s eta 0:00:01\r\u001b[K     |███████████████████████████████▍| 2.2 MB 24.3 MB/s eta 0:00:01\r\u001b[K     |███████████████████████████████▌| 2.2 MB 24.3 MB/s eta 0:00:01\r\u001b[K     |███████████████████████████████▊| 2.2 MB 24.3 MB/s eta 0:00:01\r\u001b[K     |███████████████████████████████▉| 2.2 MB 24.3 MB/s eta 0:00:01\r\u001b[K     |████████████████████████████████| 2.2 MB 24.3 MB/s eta 0:00:01\r\u001b[K     |████████████████████████████████| 2.2 MB 24.3 MB/s \n",
            "\u001b[?25hRequirement already satisfied: numpy in /usr/local/lib/python3.7/dist-packages (from rawpy) (1.21.5)\n",
            "Installing collected packages: rawpy\n",
            "Successfully installed rawpy-0.17.0\n"
          ]
        }
      ]
    },
    {
      "cell_type": "code",
      "source": [
        "import os\n",
        "import cv2\n",
        "import rawpy\n",
        "from google.colab.patches import cv2_imshow\n",
        "from tqdm import tqdm\n",
        "\n",
        "i = 0\n",
        "folder = '/content/img1/'\n",
        "\n",
        "for filename in tqdm(os.listdir(folder)):\n",
        "\n",
        "  \n",
        "    try :\n",
        "\n",
        "      image = rawpy.imread(os.path.join(folder,filename))\n",
        "      img = image.postprocess()\n",
        "      image = cv2.cvtColor(img,cv2.COLOR_RGB2BGR)\n",
        "      v,h,_ = image.shape\n",
        "    except:\n",
        "      image = cv2.imread(os.path.join(folder,filename))\n",
        "      v,h,_ = image.shape\n",
        "\n",
        "    color = 255\n",
        "\n",
        "    if v>=h:\n",
        "\n",
        "        ver = 5000\n",
        "\n",
        "        horiz = int((ver/v)*h)\n",
        "\n",
        "        im2 = cv2.resize(image,dsize=(horiz,ver))\n",
        "\n",
        "\n",
        "        crux = (5000-horiz)//2\n",
        "\n",
        "        im2 = cv2.copyMakeBorder(im2,top=0,bottom=0,left=(5000-horiz)//2,right=(5000-horiz)//2, value=[color, color, color],borderType=cv2.BORDER_CONSTANT)\n",
        "\n",
        "    else:\n",
        "\n",
        "        horiz = 5000\n",
        "\n",
        "        ver = int((horiz/h)*v)\n",
        "\n",
        "        im2 = cv2.resize(image,dsize=(horiz,ver))\n",
        "\n",
        "\n",
        "        crux = 200\n",
        "\n",
        "        im2 = cv2.copyMakeBorder(im2,top=(5000-ver)//2,bottom=(5000-ver)//2,left=0,right=0, value=[color, color, color],borderType=cv2.BORDER_CONSTANT)\n",
        "    fin = cv2.copyMakeBorder(im2,top=300,bottom=1500,left=300,right=300, value=[color, color, color],borderType=cv2.BORDER_CONSTANT)\n",
        "\n",
        "    fin = cv2.rectangle(fin, (300, 5475), (5300, 6625), (244,244,244), -1)\n",
        "\n",
        "    fin = cv2.putText(fin,\":)\", (500, 6175), cv2.FONT_HERSHEY_DUPLEX, 12, (0,0,0), 15)\n",
        "\n",
        "    fin = cv2.copyMakeBorder(fin,top=45,bottom=45,left=45,right=45, value=[0, 0, 0],borderType=cv2.BORDER_CONSTANT)\n",
        "\n",
        "    # cv2_imshow(cv2.resize(fin,dsize=(h//10, v//10)))\n",
        "    cv2.imwrite(f'/content/drive/My Drive/Gratitude Day/img/image{i}.jpg', fin)\n",
        "\n",
        "    i += 1;\n",
        "    # break\n"
      ],
      "metadata": {
        "id": "iM6UfGbn2IW-",
        "colab": {
          "base_uri": "https://localhost:8080/"
        },
        "outputId": "d550b9f3-2b37-4795-dc93-df43739c5658"
      },
      "execution_count": null,
      "outputs": [
        {
          "output_type": "stream",
          "name": "stderr",
          "text": [
            "100%|██████████| 5/5 [00:06<00:00,  1.29s/it]\n"
          ]
        }
      ]
    }
  ]
}